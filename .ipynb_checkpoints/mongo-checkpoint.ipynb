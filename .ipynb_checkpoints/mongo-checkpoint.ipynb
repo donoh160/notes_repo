{
 "cells": [
  {
   "cell_type": "markdown",
   "id": "7317f0f4",
   "metadata": {},
   "source": [
    "# CHANGE IMPORT LINES' PATH NAMES"
   ]
  },
  {
   "cell_type": "code",
   "execution_count": 1,
   "id": "de40151b",
   "metadata": {},
   "outputs": [],
   "source": [
    "from pymongo import MongoClient\n",
    "from pprint import pprint"
   ]
  },
  {
   "cell_type": "markdown",
   "id": "7973c6b5",
   "metadata": {},
   "source": [
    "# MONGOSH ON TERMINAL\n",
    "\n",
    "### ———— BASICS ———— \n",
    "\n",
    "— lists all dbs\n",
    "Show dbs\n",
    "\n",
    "— switches to specific db\n",
    "Use travel_db\n",
    "\n",
    "— shows current db\n",
    "Db\n",
    "\n",
    "— Creates collection\n",
    "db.createCollection(‘destinations’)\n",
    "\n",
    "— lists collections\n",
    "Show collections\n",
    "\n",
    "— inserts data into the collection\n",
    "db.destinations.insertOne(json format)\n",
    "\n",
    "— shows all info in collection\n",
    "db.destinations.find()\n",
    "\n",
    "— query specific dict\n",
    "db.destinations.find({dict_name})\n",
    "\n",
    "\n",
    "### ———— CRUD ———— \n",
    "\n",
    "\n",
    "— updates Egypt’s continent to Antarctica \n",
    "db.destinations.updateOne({‘country’: ‘Egypt’}, {$set: {‘continent’: ‘Antarctica’}})\n",
    "\n",
    "— updates all countries’ continents to Antarctica \n",
    "db.destinations.updateMany({‘country’: ‘Egypt’}, {$set: {‘continent’: ‘Antarctica’}})\n",
    "\n",
    "— adds data\n",
    "db.destinations.update({\"country\": \"Morocco\"}, {$push: {\"major_cities\": \"Agadir\"}})\n",
    "\n",
    "— deletes all data from collection\n",
    "db.destinations.remove()\n",
    "\n",
    "— removes specific entry\n",
    "db.destinations.remove({\"country\": \"USA\"}, {justOne: true})\n",
    "\n",
    "— deletes collection\n",
    "db.destinations.drop()\n",
    "\n",
    "— deleted database\n",
    "db.dropDatabase()\n",
    "\n",
    "\n",
    "### ———— IMPORTING ———— \n",
    "\n",
    "\n",
    "mongoimport --type csv -d dbName -c collectionName --headerline --drop filename.csv\n",
    "\n",
    "mongoimport --type json -d dbName -c collectionName --drop --jsonArray filename.json\n",
    "\n",
    "\n",
    "### ———— USEFUL TOOLS ———— \n",
    "\n",
    "\n",
    "— increment integer\n",
    "{$inc: {‘key’: int}}\n",
    "\n",
    "— set key to specified type\n",
    "db.mechanics.updateMany({}, [{'$set': {\"wages.hourly_rate\" : {'$toDouble': \"$wages.hourly_rate\"}}}])\n",
    "\n"
   ]
  },
  {
   "cell_type": "markdown",
   "id": "60b14fdd",
   "metadata": {},
   "source": [
    "### BASICS"
   ]
  },
  {
   "cell_type": "code",
   "execution_count": 2,
   "id": "a95dfbb4",
   "metadata": {},
   "outputs": [],
   "source": [
    "mongo = MongoClient(port=27017)"
   ]
  },
  {
   "cell_type": "code",
   "execution_count": 3,
   "id": "b0616665",
   "metadata": {},
   "outputs": [
    {
     "data": {
      "text/plain": [
       "['admin', 'config', 'local', 'notes', 'test']"
      ]
     },
     "execution_count": 3,
     "metadata": {},
     "output_type": "execute_result"
    }
   ],
   "source": [
    "# List all databases\n",
    "mongo.list_database_names()"
   ]
  },
  {
   "cell_type": "code",
   "execution_count": 4,
   "id": "fdb14b28",
   "metadata": {},
   "outputs": [],
   "source": [
    "# Assign specified db\n",
    "db = mongo['notes']"
   ]
  },
  {
   "cell_type": "code",
   "execution_count": 5,
   "id": "3fbfcd6c",
   "metadata": {},
   "outputs": [
    {
     "data": {
      "text/plain": [
       "['ohio_daily_records',\n",
       " 'mechanics',\n",
       " 'customer_list',\n",
       " 'annual_aqi_by_county',\n",
       " 'customers',\n",
       " 'ohio_air']"
      ]
     },
     "execution_count": 5,
     "metadata": {},
     "output_type": "execute_result"
    }
   ],
   "source": [
    "# List collections in db\n",
    "db.list_collection_names()"
   ]
  },
  {
   "cell_type": "code",
   "execution_count": 6,
   "id": "02ebc1dd",
   "metadata": {},
   "outputs": [],
   "source": [
    "db.classroom.find_one()"
   ]
  },
  {
   "cell_type": "markdown",
   "id": "77650f6a",
   "metadata": {},
   "source": [
    "### CRUD"
   ]
  },
  {
   "cell_type": "code",
   "execution_count": 7,
   "id": "c4502a77",
   "metadata": {},
   "outputs": [],
   "source": [
    "# Create a mongo db \n",
    "db = mongo.classDB\n",
    "\n",
    "# Declare a collection\n",
    "classroom = db.classroom"
   ]
  },
  {
   "cell_type": "code",
   "execution_count": 8,
   "id": "44329be6",
   "metadata": {},
   "outputs": [
    {
     "data": {
      "text/plain": [
       "InsertOneResult(ObjectId('67624a1cb5d8460f76d59eba'), acknowledged=True)"
      ]
     },
     "execution_count": 8,
     "metadata": {},
     "output_type": "execute_result"
    }
   ],
   "source": [
    "# Insert a document into the 'classroom' collection\n",
    "classroom.insert_one(\n",
    "    {\n",
    "        'name': 'Ahmed',\n",
    "        'row': 3,\n",
    "        'favorite_python_library': 'Matplotlib',\n",
    "        'hobbies': ['Running', 'Stargazing', 'Reading']\n",
    "    }\n",
    ")"
   ]
  },
  {
   "cell_type": "code",
   "execution_count": 9,
   "id": "e5120104",
   "metadata": {},
   "outputs": [
    {
     "name": "stdout",
     "output_type": "stream",
     "text": [
      "{'_id': ObjectId('67624a1cb5d8460f76d59eba'), 'name': 'Ahmed', 'row': 3, 'favorite_python_library': 'Matplotlib', 'hobbies': ['Running', 'Stargazing', 'Reading']}\n"
     ]
    }
   ],
   "source": [
    "# Query the collection.\n",
    "students = classroom.find()\n",
    "for student in students:\n",
    "    print(student)"
   ]
  },
  {
   "cell_type": "code",
   "execution_count": 10,
   "id": "69d52120",
   "metadata": {},
   "outputs": [
    {
     "name": "stdout",
     "output_type": "stream",
     "text": [
      "{'_id': ObjectId('67624a1cb5d8460f76d59eba'), 'name': 'Ahmed', 'row': 4, 'favorite_python_library': 'Matplotlib', 'hobbies': ['Running', 'Stargazing', 'Reading']}\n"
     ]
    }
   ],
   "source": [
    "# Update\n",
    "classroom.update_one(\n",
    "    {'name': 'Ahmed'},\n",
    "    {'$set':\n",
    "        {'row': 4}\n",
    "     }\n",
    ")\n",
    "\n",
    "# Query\n",
    "for i in classroom.find():\n",
    "    print(i)"
   ]
  },
  {
   "cell_type": "code",
   "execution_count": 11,
   "id": "09344849",
   "metadata": {},
   "outputs": [
    {
     "name": "stdout",
     "output_type": "stream",
     "text": [
      "{'_id': ObjectId('67624a1cb5d8460f76d59eba'), 'name': 'Ahmed', 'row': 4, 'favorite_python_library': 'Matplotlib', 'hobbies': ['Running', 'Stargazing', 'Reading', 'Listening to country music']}\n"
     ]
    }
   ],
   "source": [
    "# Add an item to a document array\n",
    "classroom.update_one(\n",
    "    {'name': 'Ahmed'},\n",
    "    {'$push':\n",
    "        {'hobbies': 'Listening to country music'}\n",
    "    }\n",
    ")\n",
    "\n",
    "# Query\n",
    "for i in classroom.find():\n",
    "    print(i)"
   ]
  },
  {
   "cell_type": "code",
   "execution_count": 12,
   "id": "aec0dc2c",
   "metadata": {},
   "outputs": [
    {
     "name": "stdout",
     "output_type": "stream",
     "text": [
      "{'_id': ObjectId('67624a1cb5d8460f76d59eba'), 'name': 'Ahmed', 'favorite_python_library': 'Matplotlib', 'hobbies': ['Running', 'Stargazing', 'Reading', 'Listening to country music']}\n"
     ]
    }
   ],
   "source": [
    "# Delete a field from a document\n",
    "classroom.update_one({'name': 'Ahmed'},\n",
    "     {'$unset':\n",
    "          {'row': \"\"}\n",
    "     }\n",
    ")\n",
    "\n",
    "# Query\n",
    "for i in classroom.find():\n",
    "    print(i)"
   ]
  },
  {
   "cell_type": "code",
   "execution_count": 13,
   "id": "b24944cb",
   "metadata": {},
   "outputs": [],
   "source": [
    "# Delete a document from a collection\n",
    "\n",
    "# or classroom.delete_many(query)\n",
    "classroom.delete_one(\n",
    "    {'name': 'Ahmed'}\n",
    ")\n",
    "\n",
    "# Query\n",
    "for i in db.classroom.find():\n",
    "    print(i)"
   ]
  },
  {
   "cell_type": "code",
   "execution_count": 14,
   "id": "94c55a8c",
   "metadata": {},
   "outputs": [],
   "source": [
    "# myclient = pymongo.MongoClient(\"mongodb://localhost:27017/\")\n",
    "# mydb = myclient[\"mydatabase\"]\n",
    "\n",
    "db[\"classroom\"].drop()\n",
    "# MongoClient().drop_database('classDB')"
   ]
  },
  {
   "cell_type": "markdown",
   "id": "ac947e57",
   "metadata": {},
   "source": [
    "### IMPORTING DOCUMENTS"
   ]
  },
  {
   "cell_type": "code",
   "execution_count": 15,
   "id": "9b60b2fe",
   "metadata": {},
   "outputs": [],
   "source": [
    "# CSV files\n",
    "# ! mongoimport --type csv -d petsitly_marketing -c customer_list --headerline --drop ../Resources/customer_database.csv"
   ]
  },
  {
   "cell_type": "code",
   "execution_count": 16,
   "id": "8e1808c0",
   "metadata": {},
   "outputs": [],
   "source": [
    "# JSON Files\n",
    "# ! mongoimport --type json -d petsitly_marketing -c customer_list --drop --jsonArray ../Resources/customer_list.json"
   ]
  },
  {
   "cell_type": "markdown",
   "id": "70b76113",
   "metadata": {},
   "source": [
    "### QUERYING"
   ]
  },
  {
   "cell_type": "code",
   "execution_count": 17,
   "id": "aefd731b",
   "metadata": {},
   "outputs": [],
   "source": [
    "# Imports if needed\n",
    "# ! mongoimport --type csv -d notes -c annual_aqi_by_county --headerline --drop ../UofM-VIRT-DATA-PT-09-2024-U-LOLC/12-NoSQL-Databases/2/Activities/06-Stu_AirFields/Resources/annual_aqi_by_county_2022.csv\n",
    "# ! mongoimport --type json -d notes -c ohio_daily_records --drop --jsonArray ../UofM-VIRT-DATA-PT-09-2024-U-LOLC/12-NoSQL-Databases/2/Activities/06-Stu_AirFields/Resources/ohio_daily_records_2022.json\n",
    "# ! mongoimport --type json -d notes -c ohio_air --drop --jsonArray ../UofM-VIRT-DATA-PT-09-2024-U-LOLC/12-NoSQL-Databases/2/Activities/06-Stu_AirFields/Resources/ohio_jan_2022.json\n",
    "# ! mongoimport --type json -d notes -c ohio_air --jsonArray ../UofM-VIRT-DATA-PT-09-2024-U-LOLC/12-NoSQL-Databases/2/Activities/06-Stu_AirFields/Resources/ohio_feb_2022.json"
   ]
  },
  {
   "cell_type": "code",
   "execution_count": 18,
   "id": "55919986",
   "metadata": {},
   "outputs": [
    {
     "data": {
      "text/plain": [
       "['ohio_daily_records',\n",
       " 'mechanics',\n",
       " 'customer_list',\n",
       " 'annual_aqi_by_county',\n",
       " 'customers',\n",
       " 'ohio_air']"
      ]
     },
     "execution_count": 18,
     "metadata": {},
     "output_type": "execute_result"
    }
   ],
   "source": [
    "# Set db to epa database and variables to collections\n",
    "db = mongo['notes']\n",
    "ohio_daily_records = db['ohio_daily_records']\n",
    "ohio_air = db['ohio_air']\n",
    "annual_aqi_by_county = db['annual_aqi_by_county']\n",
    "db.list_collection_names()"
   ]
  },
  {
   "cell_type": "code",
   "execution_count": 19,
   "id": "d559b821",
   "metadata": {},
   "outputs": [
    {
     "data": {
      "text/plain": [
       "647"
      ]
     },
     "execution_count": 19,
     "metadata": {},
     "output_type": "execute_result"
    }
   ],
   "source": [
    "# Count of documents in collection\n",
    "annual_aqi_by_county.count_documents({})"
   ]
  },
  {
   "cell_type": "code",
   "execution_count": 20,
   "id": "6db83520",
   "metadata": {},
   "outputs": [
    {
     "name": "stdout",
     "output_type": "stream",
     "text": [
      "Number of documents in result: 6764\n"
     ]
    }
   ],
   "source": [
    "# Count from specified query\n",
    "query = {'parameter': \"Sulfur dioxide\"}\n",
    "print(\"Number of documents in result:\", ohio_air.count_documents(query))"
   ]
  },
  {
   "cell_type": "code",
   "execution_count": 21,
   "id": "8600003e",
   "metadata": {},
   "outputs": [
    {
     "name": "stdout",
     "output_type": "stream",
     "text": [
      "{'_id': ObjectId('6762460f768c4557c8f32e4d'),\n",
      " 'aqi': None,\n",
      " 'arithmetic_mean': 0.0,\n",
      " 'cbsa': 'Cleveland-Elyria, OH',\n",
      " 'cbsa_code': '17460',\n",
      " 'city': 'Newburgh Heights',\n",
      " 'county': 'Cuyahoga',\n",
      " 'county_code': '035',\n",
      " 'date_local': '2022-01-01',\n",
      " 'date_of_last_change': '2022-09-19',\n",
      " 'datum': 'NAD83',\n",
      " 'event_type': 'No Events',\n",
      " 'first_max_hour': 23,\n",
      " 'first_max_value': 0.0,\n",
      " 'latitude': 41.446624,\n",
      " 'local_site_name': 'Harvard Yards',\n",
      " 'longitude': -81.662356,\n",
      " 'method': 'Instrumental - Ecotech Serinus 50',\n",
      " 'method_code': '188',\n",
      " 'observation_count': 1,\n",
      " 'observation_percent': 100.0,\n",
      " 'parameter': 'Sulfur dioxide',\n",
      " 'parameter_code': '42401',\n",
      " 'poc': 1,\n",
      " 'pollutant_standard': 'SO2 24-hour 1971',\n",
      " 'sample_duration': '24-HR BLK AVG',\n",
      " 'sample_duration_code': 'X',\n",
      " 'site_address': '4600 HARVARD AVE.',\n",
      " 'site_number': '0065',\n",
      " 'state': 'Ohio',\n",
      " 'state_code': '39',\n",
      " 'units_of_measure': 'Parts per billion',\n",
      " 'validity_indicator': 'Y'}\n"
     ]
    }
   ],
   "source": [
    "# JSON pprint\n",
    "pprint(ohio_air.find_one(query))"
   ]
  },
  {
   "cell_type": "code",
   "execution_count": 22,
   "id": "1a1f0e7a",
   "metadata": {},
   "outputs": [
    {
     "name": "stdout",
     "output_type": "stream",
     "text": [
      "{'_id': ObjectId('6762460f768c4557c8f32e4d'),\n",
      " 'city': 'Newburgh Heights',\n",
      " 'county': 'Cuyahoga',\n",
      " 'date_local': '2022-01-01',\n",
      " 'local_site_name': 'Harvard Yards',\n",
      " 'observation_count': 1,\n",
      " 'parameter': 'Sulfur dioxide',\n",
      " 'site_address': '4600 HARVARD AVE.'}\n",
      "{'_id': ObjectId('6762460f768c4557c8f32e4e'),\n",
      " 'city': 'Newburgh Heights',\n",
      " 'county': 'Cuyahoga',\n",
      " 'date_local': '2022-01-01',\n",
      " 'local_site_name': 'Harvard Yards',\n",
      " 'observation_count': 24,\n",
      " 'parameter': 'Sulfur dioxide',\n",
      " 'site_address': '4600 HARVARD AVE.'}\n"
     ]
    }
   ],
   "source": [
    "# Query ONLY Speified Fields in Document\n",
    "query = {}\n",
    "fields = {'parameter': 1, \n",
    "          'wages.units_of_measure': 1, \n",
    "          'observation_count': 1 , \n",
    "          'date_local': 1, \n",
    "          'local_site_name': 1, \n",
    "          'site_address': 1, \n",
    "          'city': 1, \n",
    "          'county': 1}\n",
    "\n",
    "# print\n",
    "results = ohio_air.find(query, fields)\n",
    "for i in range(2):\n",
    "    pprint(results[i])"
   ]
  },
  {
   "cell_type": "code",
   "execution_count": 23,
   "id": "98ab3537",
   "metadata": {},
   "outputs": [
    {
     "name": "stdout",
     "output_type": "stream",
     "text": [
      "{'CBSA_CODE': 17460.0,\n",
      " 'CBSA_NAME': 'Cleveland-Elyria, OH',\n",
      " 'CO': {'AQS_PARAMETER_CODE': '42101',\n",
      "        'AQS_PARAMETER_DESC': 'Carbon monoxide',\n",
      "        'DAILY_AQI_VALUE': '0',\n",
      "        'DAILY_OBS_COUNT': 24,\n",
      "        'Daily Max 8-hour CO Concentration': 0.0,\n",
      "        'PERCENT_COMPLETE': 100.0,\n",
      "        'UNITS': 'ppm'},\n",
      " 'COUNTY': 'Cuyahoga',\n",
      " 'Date': '01/08/2022',\n",
      " 'NO2': None,\n",
      " 'POC': 1,\n",
      " 'SITE_LATITUDE': 41.504605,\n",
      " 'SITE_LONGITUDE': -81.69045,\n",
      " 'SO2': None,\n",
      " 'STATE': 'Ohio',\n",
      " 'Site ID': 390350051,\n",
      " 'Site Name': 'Galleria',\n",
      " 'Source': 'AQS',\n",
      " '_id': ObjectId('6762460eacc6893f752eb6ee')}\n",
      "{'CBSA_CODE': 17460.0,\n",
      " 'CBSA_NAME': 'Cleveland-Elyria, OH',\n",
      " 'CO': {'AQS_PARAMETER_CODE': '42101',\n",
      "        'AQS_PARAMETER_DESC': 'Carbon monoxide',\n",
      "        'DAILY_AQI_VALUE': '2',\n",
      "        'DAILY_OBS_COUNT': 24,\n",
      "        'Daily Max 8-hour CO Concentration': 0.2,\n",
      "        'PERCENT_COMPLETE': 100.0,\n",
      "        'UNITS': 'ppm'},\n",
      " 'COUNTY': 'Cuyahoga',\n",
      " 'Date': '01/05/2022',\n",
      " 'NO2': None,\n",
      " 'POC': 1,\n",
      " 'SITE_LATITUDE': 41.504605,\n",
      " 'SITE_LONGITUDE': -81.69045,\n",
      " 'SO2': None,\n",
      " 'STATE': 'Ohio',\n",
      " 'Site ID': 390350051,\n",
      " 'Site Name': 'Galleria',\n",
      " 'Source': 'AQS',\n",
      " '_id': ObjectId('6762460eacc6893f752eb6ef')}\n"
     ]
    }
   ],
   "source": [
    "# # Query ALL EXCEPT Speified Fields in Document\n",
    "query = {}\n",
    "fields = {\"COUNTY_CODE\": 0, \n",
    "          \"STATE_CODE\": 0, \n",
    "}\n",
    "\n",
    "# print\n",
    "results = ohio_daily_records.find(query, fields)\n",
    "for i in range(2):\n",
    "    pprint(results[i])"
   ]
  },
  {
   "cell_type": "code",
   "execution_count": 24,
   "id": "fe50031e",
   "metadata": {},
   "outputs": [
    {
     "name": "stdout",
     "output_type": "stream",
     "text": [
      "{'CBSA_NAME': 'Cleveland-Elyria, OH',\n",
      " 'CO': {'AQS_PARAMETER_CODE': '42101',\n",
      "        'AQS_PARAMETER_DESC': 'Carbon monoxide',\n",
      "        'DAILY_AQI_VALUE': '3',\n",
      "        'DAILY_OBS_COUNT': 18,\n",
      "        'Daily Max 8-hour CO Concentration': 0.3,\n",
      "        'PERCENT_COMPLETE': 75.0,\n",
      "        'UNITS': 'ppm'},\n",
      " 'COUNTY': 'Cuyahoga',\n",
      " 'Date': '01/01/2022',\n",
      " 'NO2': {'AQS_PARAMETER_CODE': '42602',\n",
      "         'AQS_PARAMETER_DESC': 'Nitrogen dioxide (NO2)',\n",
      "         'DAILY_AQI_VALUE': 12,\n",
      "         'DAILY_OBS_COUNT': 23,\n",
      "         'Daily Max 1-hour NO2 Concentration': 13.0,\n",
      "         'PERCENT_COMPLETE': 96.0,\n",
      "         'UNITS': 'ppb'},\n",
      " 'SO2': {'AQS_PARAMETER_CODE': '42401',\n",
      "         'AQS_PARAMETER_DESC': 'Sulfur dioxide',\n",
      "         'DAILY_AQI_VALUE': 0,\n",
      "         'DAILY_OBS_COUNT': 23,\n",
      "         'Daily Max 1-hour SO2 Concentration': 0.0,\n",
      "         'PERCENT_COMPLETE': 96.0,\n",
      "         'UNITS': 'ppb'},\n",
      " 'Site Name': 'GT Craig NCore',\n",
      " '_id': ObjectId('6762460eacc6893f752eb7ac')}\n",
      "{'CBSA_NAME': 'Cleveland-Elyria, OH',\n",
      " 'CO': {'AQS_PARAMETER_CODE': '42101',\n",
      "        'AQS_PARAMETER_DESC': 'Carbon monoxide',\n",
      "        'DAILY_AQI_VALUE': '3',\n",
      "        'DAILY_OBS_COUNT': 24,\n",
      "        'Daily Max 8-hour CO Concentration': 0.3,\n",
      "        'PERCENT_COMPLETE': 100.0,\n",
      "        'UNITS': 'ppm'},\n",
      " 'COUNTY': 'Cuyahoga',\n",
      " 'Date': '01/02/2022',\n",
      " 'NO2': {'AQS_PARAMETER_CODE': '42602',\n",
      "         'AQS_PARAMETER_DESC': 'Nitrogen dioxide (NO2)',\n",
      "         'DAILY_AQI_VALUE': 4,\n",
      "         'DAILY_OBS_COUNT': 23,\n",
      "         'Daily Max 1-hour NO2 Concentration': 4.0,\n",
      "         'PERCENT_COMPLETE': 96.0,\n",
      "         'UNITS': 'ppb'},\n",
      " 'SO2': {'AQS_PARAMETER_CODE': '42401',\n",
      "         'AQS_PARAMETER_DESC': 'Sulfur dioxide',\n",
      "         'DAILY_AQI_VALUE': 0,\n",
      "         'DAILY_OBS_COUNT': 23,\n",
      "         'Daily Max 1-hour SO2 Concentration': 0.0,\n",
      "         'PERCENT_COMPLETE': 96.0,\n",
      "         'UNITS': 'ppb'},\n",
      " 'Site Name': 'GT Craig NCore',\n",
      " '_id': ObjectId('6762460eacc6893f752eb7ad')}\n"
     ]
    }
   ],
   "source": [
    "# Query and return specified fields\n",
    "query = {'CO.UNITS': \"ppm\", \"NO2.UNITS\": \"ppb\"}\n",
    "fields = {\"CBSA_NAME\": 1, \"COUNTY\": 1, \"Site Name\": 1, \"Date\": 1, \"CO\": 1, \"NO2\": 1, \"SO2\": 1}\n",
    "\n",
    "results = ohio_daily_records.find(query, fields)\n",
    "for i in range(2):\n",
    "    pprint(results[i])"
   ]
  },
  {
   "cell_type": "code",
   "execution_count": 25,
   "id": "092f3f85",
   "metadata": {},
   "outputs": [
    {
     "data": {
      "text/plain": [
       "UpdateResult({'n': 7335, 'nModified': 0, 'ok': 1.0, 'updatedExisting': True}, acknowledged=True)"
      ]
     },
     "execution_count": 25,
     "metadata": {},
     "output_type": "execute_result"
    }
   ],
   "source": [
    "# Change the data type\n",
    "ohio_daily_records.update_many({}, [ {'$set':{ \"CO.PERCENT_COMPLETE\" : {'$toDouble': \"$CO.PERCENT_COMPLETE\"}}} ])"
   ]
  },
  {
   "cell_type": "markdown",
   "id": "1a09d11c",
   "metadata": {},
   "source": [
    "### COMPARISON OPERATORS"
   ]
  },
  {
   "cell_type": "code",
   "execution_count": 26,
   "id": "8374e07d",
   "metadata": {},
   "outputs": [],
   "source": [
    "# ! mongoimport --type json -d notes -c customer_list --drop --jsonArray ../UofM-VIRT-DATA-PT-09-2024-U-LOLC/12-NoSQL-Databases/2/Activities/08-Stu_FindPets/Resources/customer_list.json\n",
    "db = mongo['notes']\n",
    "customers = db['customer_list']\n"
   ]
  },
  {
   "cell_type": "code",
   "execution_count": 27,
   "id": "9e71296e",
   "metadata": {},
   "outputs": [
    {
     "name": "stdout",
     "output_type": "stream",
     "text": [
      "{'2021_Total_Spend': 1483.5,\n",
      " '2021_Visits': 86,\n",
      " 'Address': '096 Jimenez Turnpike Apt. 451',\n",
      " 'Customer_First': 'Leesa',\n",
      " 'Customer_Last': 'White',\n",
      " 'Email': 'kmassey@gmail.com',\n",
      " 'Pet_Type': 'cat',\n",
      " '_id': ObjectId('676246f1e64fd29d792c0838')}\n",
      "{'2021_Total_Spend': 1017.75,\n",
      " '2021_Visits': 59,\n",
      " 'Address': '5123 Preston Plain',\n",
      " 'Customer_First': 'Victoriano',\n",
      " 'Customer_Last': 'McClure',\n",
      " 'Email': 'christopher91@yahoo.com',\n",
      " 'Pet_Type': 'dog',\n",
      " '_id': ObjectId('676246f1e64fd29d792c083a')}\n"
     ]
    }
   ],
   "source": [
    "# $lte <=\n",
    "# $gte >=\n",
    "# $lt <\n",
    "# $gt >\n",
    "# $eq =\n",
    "# $neq !=\n",
    "# $in if in list\n",
    "# $nin if not in list\n",
    "# $regex if expression in value\n",
    "\n",
    "q = customers.find({'2021_Visits': {'$gt': 50}})\n",
    "# q = customers.find({'2021_Total_Spend': {'$lte': 250}})\n",
    "# q = customers.find({'Address': {'$regex': 'Suite'}})\n",
    "# q = customers.find({'Pet_Type': {'$in': ['turtle', 'fish']}})\n",
    "\n",
    "for i in range(2):\n",
    "    pprint(q[i])"
   ]
  },
  {
   "cell_type": "markdown",
   "id": "1046b065",
   "metadata": {},
   "source": [
    "### SORTING"
   ]
  },
  {
   "cell_type": "code",
   "execution_count": 28,
   "id": "618787e5",
   "metadata": {},
   "outputs": [],
   "source": [
    "# ! mongoimport --type json -d notes -c mechanics --drop --jsonArray ../UofM-VIRT-DATA-PT-09-2024-U-LOLC/12-NoSQL-Databases/2/Activities/05-Ins_SelectingFields/Resources/mechanics.json\n",
    "# ! mongoimport --type csv -d notes -c customers --headerline --drop ../UofM-VIRT-DATA-PT-09-2024-U-LOLC/12-NoSQL-Databases/2/Activities/05-Ins_SelectingFields/Resources/customers.csv\n",
    "customers = db['customers']\n"
   ]
  },
  {
   "cell_type": "code",
   "execution_count": 29,
   "id": "adaf5f09",
   "metadata": {},
   "outputs": [
    {
     "name": "stdout",
     "output_type": "stream",
     "text": [
      "[{'_id': 416,\n",
      "  'car_make': 'Nissan',\n",
      "  'car_model': 'Versa',\n",
      "  'car_year': 2012,\n",
      "  'full_name': 'Trina Pride'},\n",
      " {'_id': 966,\n",
      "  'car_make': 'Hyundai',\n",
      "  'car_model': 'Tucson',\n",
      "  'car_year': 2012,\n",
      "  'full_name': 'Corny Marryatt'},\n",
      " {'_id': 488,\n",
      "  'car_make': 'Nissan',\n",
      "  'car_model': 'Sentra',\n",
      "  'car_year': 2012,\n",
      "  'full_name': 'Katerine Giffin'},\n",
      " {'_id': 204,\n",
      "  'car_make': 'Nissan',\n",
      "  'car_model': 'Maxima',\n",
      "  'car_year': 2011,\n",
      "  'full_name': 'Alane Sturgess'},\n",
      " {'_id': 969,\n",
      "  'car_make': 'Hyundai',\n",
      "  'car_model': 'Santa Fe',\n",
      "  'car_year': 2011,\n",
      "  'full_name': 'Feodor Bellin'}]\n"
     ]
    }
   ],
   "source": [
    "# query Nissans and Hyundais\n",
    "query = {'car_make': {'$in': [\"Nissan\", \"Hyundai\"]}}\n",
    "# Select fields\n",
    "fields = {'car_vin': 0, 'last_service': 0}\n",
    "# Sorts car_year descending, then last_service ascending\n",
    "sort = [('car_year', -1), ('last_service', 1)]\n",
    "# limits 5 results\n",
    "limit = 5\n",
    "\n",
    "pprint(list(customers.find(query, fields).sort(sort).limit(limit)))"
   ]
  },
  {
   "cell_type": "code",
   "execution_count": null,
   "id": "3edc115d",
   "metadata": {},
   "outputs": [],
   "source": []
  },
  {
   "cell_type": "code",
   "execution_count": null,
   "id": "e0a9881d",
   "metadata": {},
   "outputs": [],
   "source": []
  },
  {
   "cell_type": "code",
   "execution_count": 30,
   "id": "b821c0bd",
   "metadata": {},
   "outputs": [
    {
     "data": {
      "text/plain": [
       "['admin', 'config', 'local', 'notes', 'test']"
      ]
     },
     "execution_count": 30,
     "metadata": {},
     "output_type": "execute_result"
    }
   ],
   "source": [
    "mongo.list_database_names()"
   ]
  },
  {
   "cell_type": "code",
   "execution_count": 31,
   "id": "e6dfcb1c",
   "metadata": {},
   "outputs": [],
   "source": [
    "db = mongo['notes']"
   ]
  },
  {
   "cell_type": "code",
   "execution_count": 32,
   "id": "cfde7036",
   "metadata": {},
   "outputs": [
    {
     "data": {
      "text/plain": [
       "['ohio_daily_records',\n",
       " 'mechanics',\n",
       " 'customer_list',\n",
       " 'annual_aqi_by_county',\n",
       " 'customers',\n",
       " 'ohio_air']"
      ]
     },
     "execution_count": 32,
     "metadata": {},
     "output_type": "execute_result"
    }
   ],
   "source": [
    "db.list_collection_names()"
   ]
  }
 ],
 "metadata": {
  "kernelspec": {
   "display_name": "Python 3 (ipykernel)",
   "language": "python",
   "name": "python3"
  },
  "language_info": {
   "codemirror_mode": {
    "name": "ipython",
    "version": 3
   },
   "file_extension": ".py",
   "mimetype": "text/x-python",
   "name": "python",
   "nbconvert_exporter": "python",
   "pygments_lexer": "ipython3",
   "version": "3.11.5"
  }
 },
 "nbformat": 4,
 "nbformat_minor": 5
}
